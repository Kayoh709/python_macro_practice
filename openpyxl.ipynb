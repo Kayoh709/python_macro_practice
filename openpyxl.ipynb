{
 "cells": [
  {
   "cell_type": "code",
   "execution_count": null,
   "metadata": {},
   "outputs": [],
   "source": [
    "pip install openpyxl"
   ]
  },
  {
   "cell_type": "code",
   "execution_count": 2,
   "metadata": {},
   "outputs": [],
   "source": [
    "import openpyxl as op"
   ]
  },
  {
   "cell_type": "code",
   "execution_count": 4,
   "metadata": {},
   "outputs": [
    {
     "name": "stdout",
     "output_type": "stream",
     "text": [
      "<openpyxl.workbook.workbook.Workbook object at 0x0000029BD1FE5D80>\n"
     ]
    }
   ],
   "source": [
    "wb = op.Workbook()\n",
    "print(wb)"
   ]
  },
  {
   "cell_type": "code",
   "execution_count": 6,
   "metadata": {},
   "outputs": [],
   "source": [
    "wb.save(r\"openpyxl_test.xlsx\")"
   ]
  },
  {
   "cell_type": "code",
   "execution_count": 11,
   "metadata": {},
   "outputs": [],
   "source": [
    "path = r\"C:\\Users\\pil12\\Desktop\\Python\"\n",
    "wb = op.load_workbook(path+\"\\openpyxl_test.xlsx\")"
   ]
  },
  {
   "cell_type": "markdown",
   "metadata": {},
   "source": [
    "WorkSheet 객체 설정"
   ]
  },
  {
   "cell_type": "code",
   "execution_count": 12,
   "metadata": {},
   "outputs": [
    {
     "name": "stdout",
     "output_type": "stream",
     "text": [
      "<Worksheet \"new_sheet1\">\n"
     ]
    }
   ],
   "source": [
    "wb = op.Workbook()\n",
    "ws = wb.create_sheet(\"new_sheet1\")\n",
    "print(ws)\n",
    "wb.save(\"test_result.xlsx\")"
   ]
  },
  {
   "cell_type": "code",
   "execution_count": 14,
   "metadata": {},
   "outputs": [
    {
     "name": "stdout",
     "output_type": "stream",
     "text": [
      "<Worksheet \"Sheet\">\n"
     ]
    }
   ],
   "source": [
    "ws = wb.active\n",
    "print(ws)"
   ]
  },
  {
   "cell_type": "code",
   "execution_count": 16,
   "metadata": {},
   "outputs": [
    {
     "name": "stdout",
     "output_type": "stream",
     "text": [
      "<Worksheet \"new_sheet1\">\n"
     ]
    }
   ],
   "source": [
    "ws = wb[\"new_sheet1\"]\n",
    "print(ws)"
   ]
  },
  {
   "cell_type": "code",
   "execution_count": 18,
   "metadata": {},
   "outputs": [
    {
     "name": "stdout",
     "output_type": "stream",
     "text": [
      "['Sheet', 'new_sheet1']\n"
     ]
    }
   ],
   "source": [
    "ws_list = wb.sheetnames\n",
    "print(ws_list)"
   ]
  },
  {
   "cell_type": "markdown",
   "metadata": {},
   "source": [
    "Cell 데이터 읽기"
   ]
  },
  {
   "cell_type": "code",
   "execution_count": 19,
   "metadata": {},
   "outputs": [
    {
     "name": "stdout",
     "output_type": "stream",
     "text": [
      "4\n",
      "4\n"
     ]
    }
   ],
   "source": [
    "wb = op.load_workbook(r\"test_result.xlsx\")\n",
    "ws = wb.active\n",
    "\n",
    "#방법1\n",
    "data1 = ws.cell(row=1,column=2).value\n",
    "print(data1)\n",
    "\n",
    "#방법2\n",
    "data2 = ws[\"B1\"].value\n",
    "print(data2)"
   ]
  },
  {
   "cell_type": "code",
   "execution_count": 22,
   "metadata": {},
   "outputs": [
    {
     "name": "stdout",
     "output_type": "stream",
     "text": [
      "((<Cell 'Sheet'.A1>, <Cell 'Sheet'.B1>),)\n"
     ]
    }
   ],
   "source": [
    "print(ws[\"A1:B1\"])"
   ]
  },
  {
   "cell_type": "code",
   "execution_count": 23,
   "metadata": {},
   "outputs": [
    {
     "name": "stdout",
     "output_type": "stream",
     "text": [
      "1\n",
      "4\n",
      "7\n",
      "2\n",
      "5\n",
      "8\n",
      "3\n",
      "6\n",
      "9\n"
     ]
    }
   ],
   "source": [
    "rng = ws[\"A1:C3\"]\n",
    "for rng_data in rng:\n",
    "    for cell_data in rng_data:\n",
    "        print(cell_data.value)"
   ]
  },
  {
   "cell_type": "markdown",
   "metadata": {},
   "source": [
    "Cell 데이터 쓰기"
   ]
  },
  {
   "cell_type": "code",
   "execution_count": 25,
   "metadata": {},
   "outputs": [],
   "source": [
    "wb = op.load_workbook(r\"test_result.xlsx\")\n",
    "ws = wb['new_sheet1']\n",
    "ws.cell(row=1,column=2).value = '입력테스트1'\n",
    "ws['C1'].value = \"입력테스트2\"\n",
    "wb.save(\"result.xlsx\")"
   ]
  },
  {
   "cell_type": "code",
   "execution_count": 26,
   "metadata": {},
   "outputs": [],
   "source": [
    "datalist = [2,4,8,16,32,64,128,256]\n",
    "i = 1\n",
    "for data in datalist:\n",
    "    ws.cell(row=i,column=1).value = data\n",
    "    i+=1\n",
    "wb.save(\"result.xlsx\")"
   ]
  },
  {
   "cell_type": "markdown",
   "metadata": {},
   "source": [
    "Cell 데이터 삭제"
   ]
  },
  {
   "cell_type": "code",
   "execution_count": 28,
   "metadata": {},
   "outputs": [],
   "source": [
    "wb = op.load_workbook(\"result.xlsx\")\n",
    "ws = wb.active\n",
    "rng = ws['A1:C3']\n",
    "for row_data in rng:\n",
    "    for data in row_data:\n",
    "        if data.value%2 == 0:\n",
    "            data.value = \"\"\n",
    "wb.save(\"result.xlsx\")"
   ]
  },
  {
   "cell_type": "code",
   "execution_count": 29,
   "metadata": {},
   "outputs": [],
   "source": [
    "wb = op.load_workbook(\"result.xlsx\")\n",
    "ws = wb['new_sheet1']\n",
    "ws.delete_rows(1,2)\n",
    "ws.delete_cols(2,1)\n",
    "wb.save(\"result.xlsx\")"
   ]
  },
  {
   "cell_type": "code",
   "execution_count": 30,
   "metadata": {},
   "outputs": [],
   "source": [
    "wb = op.load_workbook(\"result.xlsx\")\n",
    "ws = wb.create_sheet(\"new2\")\n",
    "wb.remove(ws)\n",
    "wb.save(\"result.xlsx\")"
   ]
  },
  {
   "cell_type": "markdown",
   "metadata": {},
   "source": [
    "엑셀 함수 쓰기"
   ]
  },
  {
   "cell_type": "code",
   "execution_count": 32,
   "metadata": {},
   "outputs": [],
   "source": [
    "import openpyxl as op"
   ]
  },
  {
   "cell_type": "code",
   "execution_count": 38,
   "metadata": {},
   "outputs": [],
   "source": [
    "wb = op.load_workbook(\"openpyxl_test.xlsx\")\n",
    "ws = wb.active\n",
    "\n",
    "ws['F11'].value = \"=SUM(C:C)\"\n",
    "wb.save('openpyxl_test.xlsx')"
   ]
  },
  {
   "cell_type": "code",
   "execution_count": 39,
   "metadata": {},
   "outputs": [
    {
     "name": "stdout",
     "output_type": "stream",
     "text": [
      "최대행값 : 11\n",
      "최대열값 : 6\n"
     ]
    }
   ],
   "source": [
    "wb = op.load_workbook(\"openpyxl_test.xlsx\")\n",
    "ws = wb.active\n",
    "col_max = ws.max_column\n",
    "row_max = ws.max_row\n",
    "print(\"최대행값 :\",row_max)\n",
    "print(\"최대열값 :\",col_max)"
   ]
  },
  {
   "cell_type": "code",
   "execution_count": 42,
   "metadata": {},
   "outputs": [],
   "source": [
    "wb = op.load_workbook(\"openpyxl_test.xlsx\")\n",
    "ws = wb.active\n",
    "row_max = ws.max_row\n",
    "\n",
    "for row in range(2,row_max+1):\n",
    "    ws[\"E\"+str(row)].value = \"=C\"+str(row)+\"*\"+\"D\"+str(row)\n",
    "wb.save(\"openpyxl_test.xlsx\")"
   ]
  },
  {
   "cell_type": "code",
   "execution_count": 49,
   "metadata": {},
   "outputs": [],
   "source": [
    "import win32com.client\n",
    "\n",
    "def loadData():\n",
    "    excel = win32com.client.Dispatch(\"Excel.Application\")\n",
    "    temp_wb = excel.Workbooks.Open(r\"C:\\Users\\pil12\\Desktop\\Python\\openpyxl_test.xlsx\")\n",
    "    temp_wb.Save()\n",
    "    excel.quit()\n",
    "\n",
    "    wb = op.load_workbook(r\"openpyxl_test.xlsx\",data_only=True)\n",
    "    ws = wb.active\n",
    "\n",
    "    data = []\n",
    "\n",
    "    for row in ws.rows:\n",
    "        data.append(row[4].value)\n",
    "    \n",
    "    print(data)"
   ]
  },
  {
   "cell_type": "code",
   "execution_count": 50,
   "metadata": {},
   "outputs": [
    {
     "name": "stdout",
     "output_type": "stream",
     "text": [
      "['총 가격(단가*인원)', 10000, 30000, 39000, 100000, 15000, 15000, 30000, 39000, 100000, 20000]\n"
     ]
    }
   ],
   "source": [
    "loadData()"
   ]
  },
  {
   "cell_type": "markdown",
   "metadata": {},
   "source": [
    "Cell 서식 지정하기 - 기본"
   ]
  },
  {
   "cell_type": "code",
   "execution_count": 53,
   "metadata": {},
   "outputs": [],
   "source": [
    "import openpyxl as op\n",
    "from openpyxl.styles.fonts import Font\n",
    "\n",
    "wb = op.Workbook()\n",
    "ws = wb.active\n",
    "\n",
    "ws[\"A1\"].value = \"Font test1\"\n",
    "ws[\"A1\"].font = Font(size=20,italic=True,bold=True)\n",
    "\n",
    "ws[\"A2\"].value = \"Font test2\"\n",
    "font_format = Font(size=12,name='굴림',color='FF000000')\n",
    "ws[\"A2\"].font = font_format\n",
    "\n",
    "wb.save(\"test_result1.xlsx\")\n",
    "wb.close"
   ]
  },
  {
   "cell_type": "code",
   "execution_count": 57,
   "metadata": {},
   "outputs": [
    {
     "data": {
      "text/plain": [
       "<bound method Workbook.close of <openpyxl.workbook.workbook.Workbook object at 0x0000029BD4301CC0>>"
      ]
     },
     "execution_count": 57,
     "metadata": {},
     "output_type": "execute_result"
    }
   ],
   "source": [
    "import  openpyxl  as  op\n",
    "from  openpyxl.styles  import  Border, Side\n",
    "from  openpyxl.styles.colors  import  Color\n",
    "\n",
    "wb = op.Workbook()\n",
    "ws = wb.active\n",
    "\n",
    "ws[\"C3\"].value = \"1개 Cell\"\n",
    "\n",
    "ws['C3'].border = Border(top = Side(border_style=\"medium\",color='000000'))\n",
    "ws['c3'].border = Border(bottom = Side(border_style=\"double\"))\n",
    "\n",
    "wb.save(\"style_result.xlsx\")\n",
    "wb.close"
   ]
  },
  {
   "cell_type": "code",
   "execution_count": 58,
   "metadata": {},
   "outputs": [
    {
     "data": {
      "text/plain": [
       "<bound method Workbook.close of <openpyxl.workbook.workbook.Workbook object at 0x0000029BD4302D10>>"
      ]
     },
     "execution_count": 58,
     "metadata": {},
     "output_type": "execute_result"
    }
   ],
   "source": [
    "import  openpyxl  as  op\n",
    "from  openpyxl.styles  import  Alignment\n",
    "\n",
    "wb = op.Workbook()\n",
    "ws = wb.active\n",
    "\n",
    "ws[\"C2\"].value = \"Alignment test1\"\n",
    "ws[\"C4\"].value = \"Alignment test2\"\n",
    "\n",
    "ws.row_dimensions[2].height = 50 #2행의 높이 50으로\n",
    "ws.row_dimensions[4].height = 50 #4행의 높이 50으로\n",
    "ws.column_dimensions['C'].width = 50 #C열의 너비 50으로\n",
    "\n",
    "ws[\"C2\"].alignment = Alignment(horizontal = 'left', vertical='center')\n",
    "\n",
    "format1 = Alignment(horizontal = 'center', vertical='center')\n",
    "ws[\"C4\"].alignment = format1\n",
    "\n",
    "wb.save(\"align_result.xlsx\")\n",
    "wb.close"
   ]
  },
  {
   "cell_type": "code",
   "execution_count": 61,
   "metadata": {},
   "outputs": [
    {
     "data": {
      "text/plain": [
       "<bound method Workbook.close of <openpyxl.workbook.workbook.Workbook object at 0x0000029BD43EB010>>"
      ]
     },
     "execution_count": 61,
     "metadata": {},
     "output_type": "execute_result"
    }
   ],
   "source": [
    "import  openpyxl  as  op\n",
    "from  openpyxl.styles  import  PatternFill\n",
    "\n",
    "wb = op.Workbook()\n",
    "ws = wb.active\n",
    "\n",
    "ws[\"C5\"].fill = PatternFill(fill_type='solid', fgColor=\"00FF00\")\n",
    "\n",
    "wb.save(\"pattern_result.xlsx\")\n",
    "wb.close "
   ]
  },
  {
   "cell_type": "code",
   "execution_count": 62,
   "metadata": {},
   "outputs": [
    {
     "data": {
      "text/plain": [
       "<bound method Workbook.close of <openpyxl.workbook.workbook.Workbook object at 0x0000029BD43E99C0>>"
      ]
     },
     "execution_count": 62,
     "metadata": {},
     "output_type": "execute_result"
    }
   ],
   "source": [
    "import  openpyxl  as  op\n",
    "from  openpyxl.styles  import  Protection\n",
    "\n",
    "wb = op.Workbook()\n",
    "ws = wb.active\n",
    "\n",
    "ws[\"C3\"].value = \"Protection test1 : locked\"\n",
    "ws[\"C5\"].value = \"Protection test2 : hidden\"\n",
    "\n",
    "ws[\"C3\"].protection = Protection(locked = True, hidden = True)\n",
    "ws[\"C5\"].protection = Protection(locked = False, hidden = False)\n",
    "\n",
    "wb.save(\"protect_result.xlsx\")\n",
    "wb.close"
   ]
  },
  {
   "cell_type": "markdown",
   "metadata": {},
   "source": [
    "Cell 서식 지정하기 - 조건부 서식"
   ]
  },
  {
   "cell_type": "code",
   "execution_count": 64,
   "metadata": {},
   "outputs": [],
   "source": [
    "import openpyxl as op\n",
    "from openpyxl.styles.fonts import Font\n",
    "\n",
    "path = r\"C:\\Users\\pil12\\Desktop\\Python\"\n",
    "wb = op.load_workbook(path+\"/\"+\"조건부서식.xlsx\",data_only=True)\n",
    "ws = wb.active\n",
    "\n",
    "def passfail():\n",
    "    max_row = ws.max_row\n",
    "    for row_index in range(2,max_row+1):\n",
    "        average = ws.cell(row=row_index,column=5).value\n",
    "        if average >= 70:\n",
    "            ws.cell(row=row_index,column=6).value = \"합격\"\n",
    "        else:\n",
    "            ws.cell(row=row_index,column=6).value = \"불합격\"\n",
    "\n",
    "def conditionFormat():\n",
    "    pass_format =  Font(size=12, name='굴림', color = '000000FF') #   000000FF은 파란색\n",
    "    fail_format =  Font(size=12, name='굴림', color = '00FF0000') #00ff000은 빨간색 \n",
    "    max_row  = ws.max_row\n",
    "    for row_index in range(2, max_row+1):\n",
    "        result_str = ws.cell(row = row_index, column=6).value\n",
    "        if result_str == \"합격\":\n",
    "            ws.cell(row=row_index, column=6).font = pass_format\n",
    "        else:\n",
    "            ws.cell(row=row_index, column=6).font = fail_format\n",
    "\n",
    "\n",
    "if __name__ == \"__main__\":\n",
    "    passfail()\n",
    "    conditionFormat()\n",
    "    wb.save(r\"C:\\Users\\pil12\\Desktop\\Python\\조건부서식.xlsx\")"
   ]
  },
  {
   "cell_type": "markdown",
   "metadata": {},
   "source": [
    "WorkSheet(=Sheet) 조작하기"
   ]
  },
  {
   "cell_type": "code",
   "execution_count": 69,
   "metadata": {},
   "outputs": [
    {
     "name": "stdout",
     "output_type": "stream",
     "text": [
      "['Sheet', '연습']\n"
     ]
    }
   ],
   "source": [
    "import openpyxl as op\n",
    "\n",
    "wb = op.Workbook()\n",
    "ws = wb.create_sheet(\"연습\")\n",
    "print(wb.sheetnames)"
   ]
  },
  {
   "cell_type": "code",
   "execution_count": 70,
   "metadata": {},
   "outputs": [
    {
     "name": "stdout",
     "output_type": "stream",
     "text": [
      "첫번째 :  ['첫번째', 'Sheet', '연습']\n",
      "뒤에서 두번째 :  ['첫번째', 'Sheet', '뒤에서 두번째', '연습']\n",
      "두번째 :  ['첫번째', '두번째', 'Sheet', '뒤에서 두번째', '연습']\n",
      "세번째 :  ['첫번째', '두번째', '세번째', 'Sheet', '뒤에서 두번째', '연습']\n"
     ]
    }
   ],
   "source": [
    "ws = wb.create_sheet(\"첫번째\",0)\n",
    "print(\"첫번째 : \",wb.sheetnames)\n",
    "\n",
    "ws = wb.create_sheet(\"뒤에서 두번째\",-1)\n",
    "print(\"뒤에서 두번째 : \", wb.sheetnames)\n",
    "\n",
    "ws = wb.create_sheet(\"두번째\",1)\n",
    "print(\"두번째 : \", wb.sheetnames)\n",
    "\n",
    "ws = wb.create_sheet('세번째',2)\n",
    "print(\"세번째 : \", wb.sheetnames)"
   ]
  },
  {
   "cell_type": "code",
   "execution_count": 72,
   "metadata": {},
   "outputs": [],
   "source": [
    "ws = wb['Sheet']\n",
    "wb.remove(ws)"
   ]
  },
  {
   "cell_type": "code",
   "execution_count": 73,
   "metadata": {},
   "outputs": [
    {
     "name": "stdout",
     "output_type": "stream",
     "text": [
      "['First', '두번째', '세번째', '뒤에서 두번째', '연습']\n"
     ]
    }
   ],
   "source": [
    "ws1 = wb[\"첫번째\"]\n",
    "ws1.title = 'First'\n",
    "print(wb.sheetnames)"
   ]
  },
  {
   "cell_type": "code",
   "execution_count": 75,
   "metadata": {},
   "outputs": [
    {
     "name": "stdout",
     "output_type": "stream",
     "text": [
      "이동 후 :  ['연습', 'First', '두번째', '세번째', '뒤에서 두번째']\n"
     ]
    }
   ],
   "source": [
    "ws = wb['연습']\n",
    "wb.move_sheet(ws,-3)\n",
    "print(\"이동 후 : \",wb.sheetnames)"
   ]
  },
  {
   "cell_type": "code",
   "execution_count": 76,
   "metadata": {},
   "outputs": [
    {
     "name": "stdout",
     "output_type": "stream",
     "text": [
      "<Worksheet \"연습 Copy\">\n",
      "['연습', 'First', '두번째', '세번째', '뒤에서 두번째', '연습 Copy']\n"
     ]
    }
   ],
   "source": [
    "ws_copy = wb.copy_worksheet(wb[\"연습\"])\n",
    "print(ws_copy)\n",
    "print(wb.sheetnames)"
   ]
  },
  {
   "cell_type": "code",
   "execution_count": 77,
   "metadata": {},
   "outputs": [],
   "source": [
    "ws_copy.sheet_properties.tabColor = '00FFFF'\n",
    "\n",
    "wb.save(\"after.xlsx\")"
   ]
  },
  {
   "cell_type": "code",
   "execution_count": null,
   "metadata": {},
   "outputs": [],
   "source": []
  }
 ],
 "metadata": {
  "interpreter": {
   "hash": "2ff6de7c384c0a51eeb23d3a0610f2710fc2144717ddf1b9e5553f605ba7cc81"
  },
  "kernelspec": {
   "display_name": "Python 3.10.0 64-bit",
   "language": "python",
   "name": "python3"
  },
  "language_info": {
   "codemirror_mode": {
    "name": "ipython",
    "version": 3
   },
   "file_extension": ".py",
   "mimetype": "text/x-python",
   "name": "python",
   "nbconvert_exporter": "python",
   "pygments_lexer": "ipython3",
   "version": "3.10.0"
  },
  "orig_nbformat": 4
 },
 "nbformat": 4,
 "nbformat_minor": 2
}
