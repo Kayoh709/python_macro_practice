{
 "cells": [
  {
   "cell_type": "code",
   "execution_count": null,
   "metadata": {},
   "outputs": [],
   "source": [
    "pip install pillow"
   ]
  },
  {
   "cell_type": "code",
   "execution_count": 2,
   "metadata": {},
   "outputs": [],
   "source": [
    "from PIL import Image"
   ]
  },
  {
   "cell_type": "code",
   "execution_count": 4,
   "metadata": {},
   "outputs": [],
   "source": [
    "img = Image.open(\"cat.jpg\")\n",
    "img.show()"
   ]
  },
  {
   "cell_type": "code",
   "execution_count": 5,
   "metadata": {},
   "outputs": [
    {
     "name": "stdout",
     "output_type": "stream",
     "text": [
      "cat.jpg\n",
      "JPEG\n",
      "(640, 426)\n",
      "640\n",
      "426\n",
      "RGB\n"
     ]
    }
   ],
   "source": [
    "print(img.filename)\n",
    "print(img.format)\n",
    "print(img.size)\n",
    "print(img.width)\n",
    "print(img.height)\n",
    "print(img.mode)"
   ]
  },
  {
   "cell_type": "code",
   "execution_count": 7,
   "metadata": {},
   "outputs": [],
   "source": [
    "img_resized = img.resize((400,300))\n",
    "img_resized.show()"
   ]
  },
  {
   "cell_type": "code",
   "execution_count": 8,
   "metadata": {},
   "outputs": [],
   "source": [
    "img_cropped = img.crop((0,0,300,300))\n",
    "img_cropped.show()"
   ]
  },
  {
   "cell_type": "code",
   "execution_count": 9,
   "metadata": {},
   "outputs": [],
   "source": [
    "img_rotated = img.rotate(90)\n",
    "img_rotated.show()"
   ]
  },
  {
   "cell_type": "code",
   "execution_count": 10,
   "metadata": {},
   "outputs": [],
   "source": [
    "# 좌우대칭\n",
    "img_flipped_LR = img.transpose(Image.FLIP_LEFT_RIGHT)\n",
    "img_flipped_LR.show()\n",
    "\n",
    "# 상하대칭\n",
    "img_flipped_TB = img.transpose(Image.FLIP_TOP_BOTTOM)\n",
    "img_flipped_TB.show()"
   ]
  },
  {
   "cell_type": "code",
   "execution_count": 11,
   "metadata": {},
   "outputs": [],
   "source": [
    "img_flipped_TB.save('cat_flip.jpg')"
   ]
  },
  {
   "cell_type": "code",
   "execution_count": 12,
   "metadata": {},
   "outputs": [],
   "source": [
    "img_gray = img.convert('L')\n",
    "img_gray.show()\n",
    "# 1 (1비트 픽셀, 흑백, 바이트당 1픽셀로 저장)\n",
    "# L (8비트 픽셀, 흑백)\n",
    "# P (8비트 픽셀, 색상 팔레트를 사용하여 다른 모드에 매핑됨)\n",
    "# RGB (3x8비트 픽셀, 트루 컬러)\n",
    "# RGBA (4x8비트 픽셀, 투명 마스크가 있는 트루 컬러)\n",
    "# CMYK (4x8비트 픽셀, 색상 분리)\n",
    "# YCbCr (3x8비트 픽셀, 컬러 비디오 형식)\n",
    "# LAB (3x8비트 픽셀, Lab 색 공간)\n",
    "# HSV (3x8비트 픽셀, 색조, 채도, 값 색 공간)\n",
    "# I (32비트 부호 있는 정수 픽셀)\n",
    "# F (32비트 부동 소수점 픽셀)"
   ]
  },
  {
   "cell_type": "code",
   "execution_count": 13,
   "metadata": {},
   "outputs": [],
   "source": [
    "from PIL import ImageFilter\n",
    "# BLUR : BLUR, BoxBlur( ), GaussianBlur( )\n",
    "# MedianFilter( ), MinFilter( ), MaxFilter( ) 등\n",
    "# CONTOUR\n",
    "# DETAIL\n",
    "# EDGE_ENHANCE, EDGE_ENHANCE_MORE\n",
    "# EMBOSS\n",
    "# FIND_EDGES\n",
    "# SHARPEN\n",
    "# SMOOTH, SMOOTH_MORE"
   ]
  },
  {
   "cell_type": "code",
   "execution_count": 14,
   "metadata": {},
   "outputs": [],
   "source": [
    "img_blur = img.filter(ImageFilter.GaussianBlur(5))\n",
    "img_blur.show()"
   ]
  },
  {
   "cell_type": "code",
   "execution_count": 15,
   "metadata": {},
   "outputs": [],
   "source": [
    "img_edge = img.filter(ImageFilter.EDGE_ENHANCE)\n",
    "img_edge.show()"
   ]
  },
  {
   "cell_type": "code",
   "execution_count": 16,
   "metadata": {},
   "outputs": [],
   "source": [
    "from PIL import  Image, ImageDraw, ImageFont"
   ]
  },
  {
   "cell_type": "code",
   "execution_count": 21,
   "metadata": {},
   "outputs": [],
   "source": [
    "width, height = img.size\n",
    "\n",
    "draw = ImageDraw.Draw(img)\n",
    "\n",
    "text = \"테스트\"\n",
    "\n",
    "font = ImageFont.truetype('C:/Users/pil12/Desktop/Python/font.ttf', 30)\n",
    "\n",
    "width_txt, height_txt = draw.textsize(text,font)\n",
    "\n",
    "margin = 10\n",
    "\n",
    "x = width - width_txt - margin\n",
    "y = height - height_txt - margin\n",
    "\n",
    "draw.text((x,y),text,fill=\"white\",font=font)\n",
    "\n",
    "img.show()"
   ]
  },
  {
   "cell_type": "code",
   "execution_count": 22,
   "metadata": {},
   "outputs": [],
   "source": [
    "import os\n",
    "import openpyxl as op\n",
    "from openpyxl.drawing.image import Image\n",
    "from PIL import Image as pi"
   ]
  },
  {
   "cell_type": "code",
   "execution_count": 24,
   "metadata": {},
   "outputs": [],
   "source": [
    "def resizeImg(size,img_path,img_name):\n",
    "    img = pi.open(img_path+\"/\"+img_name)\n",
    "    resize_img = img.resize(size)\n",
    "    resize_img.save(img_path+\"/\"+img_name,\"JPEG\",quality=95)\n",
    "\n",
    "def insertImg(file_path,img_path,img_name,save_path):\n",
    "    file_list = os.listdir(file_path)\n",
    "\n",
    "    for file in file_list:\n",
    "        wb = op.load_workbook(file_path+\"/\"+file)\n",
    "        ws = wb.active\n",
    "        img = Image(img_path+\"/\"+img_name)\n",
    "        ws.add_image(img,'A1')\n",
    "        wb.save(save_path+\"/\"+file)"
   ]
  },
  {
   "cell_type": "code",
   "execution_count": 25,
   "metadata": {},
   "outputs": [],
   "source": [
    "if __name__ == \"__main__\":\n",
    "    file_path = r\"C:\\Users\\pil12\\Desktop\\Python\\test\"\n",
    "    img_path = r\"C:\\Users\\pil12\\Desktop\\Python\"\n",
    "    save_path = r\"C:\\Users\\pil12\\Desktop\\Python\\test\"\n",
    "    img_name = \"cat.jpg\"\n",
    "    size = (500,300)\n",
    "\n",
    "    resizeImg(size,img_path,img_name)\n",
    "    insertImg(file_path,img_path,img_name,save_path)"
   ]
  },
  {
   "cell_type": "code",
   "execution_count": null,
   "metadata": {},
   "outputs": [],
   "source": []
  }
 ],
 "metadata": {
  "interpreter": {
   "hash": "2ff6de7c384c0a51eeb23d3a0610f2710fc2144717ddf1b9e5553f605ba7cc81"
  },
  "kernelspec": {
   "display_name": "Python 3.10.0 64-bit",
   "language": "python",
   "name": "python3"
  },
  "language_info": {
   "codemirror_mode": {
    "name": "ipython",
    "version": 3
   },
   "file_extension": ".py",
   "mimetype": "text/x-python",
   "name": "python",
   "nbconvert_exporter": "python",
   "pygments_lexer": "ipython3",
   "version": "3.10.0"
  },
  "orig_nbformat": 4
 },
 "nbformat": 4,
 "nbformat_minor": 2
}
